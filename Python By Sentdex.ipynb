{
 "cells": [
  {
   "cell_type": "markdown",
   "metadata": {},
   "source": [
    "## Tic Tac Toe\n"
   ]
  },
  {
   "cell_type": "code",
   "execution_count": 3,
   "metadata": {},
   "outputs": [],
   "source": [
    "game = (0,0,0,\n",
    "       0,0,0,\n",
    "       0,0,0,)\n",
    "\n",
    "# It is just a flat tuple, it is also immutable so we will use list here\n",
    "\n",
    "# we will have to use a list of lists\n",
    "game = [[0,0,0],\n",
    "       [0,0,0],\n",
    "       [0,0,0]]"
   ]
  },
  {
   "cell_type": "code",
   "execution_count": 5,
   "metadata": {},
   "outputs": [
    {
     "name": "stdout",
     "output_type": "stream",
     "text": [
      "[[0, 0, 0], [0, 0, 0], [0, 0, 0]]\n"
     ]
    }
   ],
   "source": [
    "print(game)"
   ]
  },
  {
   "cell_type": "code",
   "execution_count": 6,
   "metadata": {},
   "outputs": [
    {
     "name": "stdout",
     "output_type": "stream",
     "text": [
      "[0, 0, 0]\n",
      "[0, 0, 0]\n",
      "[0, 0, 0]\n"
     ]
    }
   ],
   "source": [
    "for row in game:\n",
    "    print(row)"
   ]
  },
  {
   "cell_type": "markdown",
   "metadata": {},
   "source": [
    "# How do we iterate and show the user which portion he wants to modify?\n",
    "Now we're making progress! I think we've got our game board to start. So my thinking for now is that 0 means no one has played there, then we'll use the number 1 for player 1 and number 2 for player 2. Later, we can come in and use this list of lists to generate a more pretty version of the game, but, for now, this logic should work well."
   ]
  },
  {
   "cell_type": "code",
   "execution_count": 14,
   "metadata": {},
   "outputs": [
    {
     "name": "stdout",
     "output_type": "stream",
     "text": [
      "   0  1  2\n",
      "0 [0, 0, 0]\n",
      "1 [0, 0, 0]\n",
      "2 [0, 0, 0]\n"
     ]
    }
   ],
   "source": [
    "print(\"   0  1  2\")\n",
    "count = 0\n",
    "for row in game:\n",
    "    print(count,row)\n",
    "    count+=1"
   ]
  },
  {
   "cell_type": "code",
   "execution_count": 11,
   "metadata": {},
   "outputs": [],
   "source": [
    "# The above way is not good as a programmer\n",
    "# Enumerate: When you iterate over enumerate it gives both index value and value"
   ]
  },
  {
   "cell_type": "code",
   "execution_count": 16,
   "metadata": {},
   "outputs": [
    {
     "name": "stdout",
     "output_type": "stream",
     "text": [
      "   a  b  c\n",
      "0 [0, 0, 0]\n",
      "1 [0, 0, 0]\n",
      "2 [0, 0, 0]\n"
     ]
    }
   ],
   "source": [
    "print(\"   a  b  c\")\n",
    "count = 0\n",
    "for count, row in enumerate(game):\n",
    "    print(count,row)"
   ]
  },
  {
   "cell_type": "code",
   "execution_count": 17,
   "metadata": {},
   "outputs": [],
   "source": [
    "# Indexes and Slices - Learning to Program\n",
    "# Whe player wants to modify we can add using indexes"
   ]
  },
  {
   "cell_type": "code",
   "execution_count": null,
   "metadata": {},
   "outputs": [],
   "source": []
  },
  {
   "cell_type": "code",
   "execution_count": 21,
   "metadata": {},
   "outputs": [],
   "source": [
    "def game_board():\n",
    "    print(\"   a  b  c\")\n",
    "    count = 0\n",
    "    for count, row in enumerate(game):\n",
    "        print(count,row)\n",
    "    "
   ]
  },
  {
   "cell_type": "code",
   "execution_count": 22,
   "metadata": {},
   "outputs": [
    {
     "name": "stdout",
     "output_type": "stream",
     "text": [
      "   a  b  c\n",
      "0 [0, 0, 0]\n",
      "1 [0, 0, 0]\n",
      "2 [0, 0, 0]\n"
     ]
    }
   ],
   "source": [
    "game_board()"
   ]
  },
  {
   "cell_type": "code",
   "execution_count": 23,
   "metadata": {},
   "outputs": [],
   "source": [
    "# You can also do \n",
    "x=game_board"
   ]
  },
  {
   "cell_type": "code",
   "execution_count": 24,
   "metadata": {},
   "outputs": [
    {
     "name": "stdout",
     "output_type": "stream",
     "text": [
      "   a  b  c\n",
      "0 [0, 0, 0]\n",
      "1 [0, 0, 0]\n",
      "2 [0, 0, 0]\n"
     ]
    }
   ],
   "source": [
    "x()"
   ]
  },
  {
   "cell_type": "code",
   "execution_count": null,
   "metadata": {},
   "outputs": [],
   "source": [
    "# Function parameters\n"
   ]
  }
 ],
 "metadata": {
  "kernelspec": {
   "display_name": "Python 3",
   "language": "python",
   "name": "python3"
  },
  "language_info": {
   "codemirror_mode": {
    "name": "ipython",
    "version": 3
   },
   "file_extension": ".py",
   "mimetype": "text/x-python",
   "name": "python",
   "nbconvert_exporter": "python",
   "pygments_lexer": "ipython3",
   "version": "3.7.6"
  }
 },
 "nbformat": 4,
 "nbformat_minor": 4
}
