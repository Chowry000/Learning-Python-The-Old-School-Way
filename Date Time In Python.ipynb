{
 "cells": [
  {
   "cell_type": "markdown",
   "metadata": {},
   "source": [
    "## We will be using datetime library to manipulate dates and times\n"
   ]
  },
  {
   "cell_type": "code",
   "execution_count": 34,
   "metadata": {},
   "outputs": [],
   "source": [
    "from datetime import datetime\n",
    "from datetime import date\n",
    "from datetime import time"
   ]
  },
  {
   "cell_type": "code",
   "execution_count": 35,
   "metadata": {},
   "outputs": [
    {
     "name": "stdout",
     "output_type": "stream",
     "text": [
      "Today's Date:  2020-04-28\n"
     ]
    }
   ],
   "source": [
    "# Get Today's date\n",
    "now = date.today()\n",
    "print(\"Today's Date: \",now)"
   ]
  },
  {
   "cell_type": "code",
   "execution_count": 36,
   "metadata": {},
   "outputs": [
    {
     "data": {
      "text/plain": [
       "datetime.date(2020, 4, 28)"
      ]
     },
     "execution_count": 36,
     "metadata": {},
     "output_type": "execute_result"
    }
   ],
   "source": [
    "date.today() #This is returning a datetime object. Which can be further broken down into various subcomponents"
   ]
  },
  {
   "cell_type": "code",
   "execution_count": 37,
   "metadata": {},
   "outputs": [
    {
     "data": {
      "text/plain": [
       "int"
      ]
     },
     "execution_count": 37,
     "metadata": {},
     "output_type": "execute_result"
    }
   ],
   "source": [
    "#Let's get the weekday of a date\n",
    "weekday = now.weekday()\n",
    "type(weekday) # This will return a number, Monday being 0 and Tuesday as 1 and so on."
   ]
  },
  {
   "cell_type": "code",
   "execution_count": 38,
   "metadata": {},
   "outputs": [],
   "source": [
    "# Let's make a list of days and try to pring the weekday in a more verbose way\n",
    "listOfDays = [\"mon\",\"tues\",\"wed\",\"thur\",\"fri\",\"sat\",]"
   ]
  },
  {
   "cell_type": "code",
   "execution_count": 39,
   "metadata": {},
   "outputs": [
    {
     "data": {
      "text/plain": [
       "'tues'"
      ]
     },
     "execution_count": 39,
     "metadata": {},
     "output_type": "execute_result"
    }
   ],
   "source": [
    "listOfDays[weekday] #Passing now.weekday() as an index"
   ]
  },
  {
   "cell_type": "code",
   "execution_count": 41,
   "metadata": {},
   "outputs": [
    {
     "name": "stdout",
     "output_type": "stream",
     "text": [
      "2020-04-28 22:09:57.994802\n"
     ]
    }
   ],
   "source": [
    "today = datetime.now()\n",
    "print(today)"
   ]
  },
  {
   "cell_type": "code",
   "execution_count": 46,
   "metadata": {},
   "outputs": [
    {
     "name": "stdout",
     "output_type": "stream",
     "text": [
      "22:09:57.994802\n"
     ]
    }
   ],
   "source": [
    "print(datetime.time(today)) # Get the time from a datetime"
   ]
  },
  {
   "cell_type": "markdown",
   "metadata": {},
   "source": [
    "## Formatting date times"
   ]
  },
  {
   "cell_type": "code",
   "execution_count": 47,
   "metadata": {},
   "outputs": [],
   "source": [
    "# %y/%Y - Year, %a/%A - weekday, %b/%B - month, %d - day of month\n",
    "\n",
    "\n",
    "  # %c - locale's date and time, %x - locale's date, %X - locale's time\n",
    "\n",
    "\n",
    "  #### Time Formatting ####\n",
    "  \n",
    "  # %I/%H - 12/24 Hour, %M - minute, %S - second, %p - locale's AM/PM\n",
    "\n",
    "# \"%m-%d-%y. %d %b %Y is a %A on the %d day of %B.\""
   ]
  },
  {
   "cell_type": "code",
   "execution_count": 81,
   "metadata": {},
   "outputs": [
    {
     "name": "stdout",
     "output_type": "stream",
     "text": [
      "Normal Date: 04 28 20\n",
      "Normal date separated with a dash(-) and full year:  04-28-2020\n",
      "Date with day name in it: 04 Tue 2020\n",
      "Date with full day name in it: 04 Tuesday 2020\n",
      "Date with month name: Apr Tuesday 2020\n",
      "Date with full month name: April Tuesday 2020\n",
      "Full time in millitary hours: Tue Apr 28 22:09:57 2020\n",
      "Locale date: 04/28/20\n",
      "Locale time: 22:09:57\n",
      "Time in Python: \n",
      "10:09:1588126197 PM\n",
      "22:09:1588126197 PM\n"
     ]
    }
   ],
   "source": [
    "print(\"Normal Date:\",today.strftime(\"%m %d %y\"))\n",
    "print(\"Normal date separated with a dash(-) and full year: \",today.strftime(\"%m-%d-%Y\")) \n",
    "print(\"Date with day name in it:\",today.strftime(\"%m %a %Y\"))\n",
    "print(\"Date with full day name in it:\", today.strftime(\"%m %A %Y\"))\n",
    "print(\"Date with month name:\",today.strftime(\"%b %A %Y\"))\n",
    "print(\"Date with full month name:\",today.strftime(\"%B %A %Y\"))\n",
    "print(\"Full time in millitary hours:\",today.strftime(\"%c\"))\n",
    "print(\"Locale date:\",today.strftime(\"%x\"))\n",
    "print(\"Locale time:\",today.strftime(\"%X\"))\n",
    "\n",
    "print(\"Time in Python: \")\n",
    "print(today.strftime(\"%I:%M:%s %p\"))\n",
    "print(today.strftime(\"%H:%M:%s %p\"))"
   ]
  },
  {
   "cell_type": "code",
   "execution_count": 82,
   "metadata": {},
   "outputs": [],
   "source": [
    "from datetime import timedelta #span of days"
   ]
  },
  {
   "cell_type": "code",
   "execution_count": 83,
   "metadata": {},
   "outputs": [],
   "source": [
    "# Using timedelta you can calculate dates in past and future"
   ]
  },
  {
   "cell_type": "markdown",
   "metadata": {},
   "source": [
    "## Calendars in Python"
   ]
  },
  {
   "cell_type": "code",
   "execution_count": 84,
   "metadata": {},
   "outputs": [],
   "source": [
    "import calendar #Import all classes from calendar"
   ]
  },
  {
   "cell_type": "code",
   "execution_count": 102,
   "metadata": {},
   "outputs": [
    {
     "name": "stdout",
     "output_type": "stream",
     "text": [
      "    January 2020\n",
      "Su Mo Tu We Th Fr Sa\n",
      "          1  2  3  4\n",
      " 5  6  7  8  9 10 11\n",
      "12 13 14 15 16 17 18\n",
      "19 20 21 22 23 24 25\n",
      "26 27 28 29 30 31\n",
      "\n"
     ]
    }
   ],
   "source": [
    "c = calendar.TextCalendar(calendar.SUNDAY)\n",
    "st = c.formatmonth(2020,1,0,0)\n",
    "print(st)"
   ]
  },
  {
   "cell_type": "code",
   "execution_count": 103,
   "metadata": {},
   "outputs": [
    {
     "name": "stdout",
     "output_type": "stream",
     "text": [
      "    January 2020\n",
      "Mo Tu We Th Fr Sa Su\n",
      "       1  2  3  4  5\n",
      " 6  7  8  9 10 11 12\n",
      "13 14 15 16 17 18 19\n",
      "20 21 22 23 24 25 26\n",
      "27 28 29 30 31\n",
      "\n"
     ]
    }
   ],
   "source": [
    "x = calendar.TextCalendar(calendar.MONDAY)\n",
    "st = x.formatmonth(2020,1,0,0)\n",
    "print(st)"
   ]
  },
  {
   "cell_type": "code",
   "execution_count": 106,
   "metadata": {},
   "outputs": [
    {
     "name": "stdout",
     "output_type": "stream",
     "text": [
      "\n",
      "January\n",
      "February\n",
      "March\n",
      "April\n",
      "May\n",
      "June\n",
      "July\n",
      "August\n",
      "September\n",
      "October\n",
      "November\n",
      "December\n",
      "Monday\n",
      "Tuesday\n",
      "Wednesday\n",
      "Thursday\n",
      "Friday\n",
      "Saturday\n",
      "Sunday\n"
     ]
    }
   ],
   "source": [
    "#Get locale month and day\n",
    "for name in calendar.month_name:\n",
    "    print(name)\n",
    "for day in calendar.day_name:\n",
    "    print(day)"
   ]
  },
  {
   "cell_type": "code",
   "execution_count": null,
   "metadata": {},
   "outputs": [],
   "source": []
  }
 ],
 "metadata": {
  "kernelspec": {
   "display_name": "Python 3",
   "language": "python",
   "name": "python3"
  },
  "language_info": {
   "codemirror_mode": {
    "name": "ipython",
    "version": 3
   },
   "file_extension": ".py",
   "mimetype": "text/x-python",
   "name": "python",
   "nbconvert_exporter": "python",
   "pygments_lexer": "ipython3",
   "version": "3.7.6"
  }
 },
 "nbformat": 4,
 "nbformat_minor": 4
}
